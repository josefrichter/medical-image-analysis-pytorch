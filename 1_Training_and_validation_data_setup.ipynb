{
 "cells": [
  {
   "cell_type": "markdown",
   "metadata": {
    "colab_type": "text",
    "id": "XdV-deaIZWL0"
   },
   "source": [
    "# Medical image analysis with PyTorch\n",
    "\n",
    "Create a deep convolutional network for an image translation task with PyTorch from scratch and train it on a subset of the IXI dataset for a T1-w to T2-w transformation."
   ]
  },
  {
   "cell_type": "markdown",
   "metadata": {
    "colab_type": "text",
    "id": "sNSmyxTUZWL3"
   },
   "source": [
    "### Setup notebook"
   ]
  },
  {
   "cell_type": "code",
   "execution_count": 41,
   "metadata": {
    "colab": {},
    "colab_type": "code",
    "id": "UeWMkjQyZWL6"
   },
   "outputs": [],
   "source": [
    "from typing import Callable, List, Optional, Tuple, Union\n",
    "\n",
    "from glob import glob\n",
    "import os\n",
    "import random\n",
    "import sys\n",
    "\n",
    "import matplotlib.pyplot as plt\n",
    "import nibabel as nib\n",
    "import numpy as np\n",
    "\n",
    "import torch\n",
    "from torch import nn\n",
    "import torch.nn.functional as F\n",
    "from torch.utils.data.dataset import Dataset\n",
    "from torch.utils.data import DataLoader\n",
    "from torch.utils.data.sampler import SubsetRandomSampler\n",
    "import torchvision\n",
    "from torchvision.transforms import Compose"
   ]
  },
  {
   "cell_type": "markdown",
   "metadata": {
    "colab_type": "text",
    "id": "_rSc0EYCZWMB"
   },
   "source": [
    " Support in-notebook plotting"
   ]
  },
  {
   "cell_type": "code",
   "execution_count": 42,
   "metadata": {
    "colab": {},
    "colab_type": "code",
    "id": "9mU0dn9aZWMD"
   },
   "outputs": [],
   "source": [
    "%matplotlib inline"
   ]
  },
  {
   "cell_type": "markdown",
   "metadata": {
    "colab_type": "text",
    "id": "DdpkEgeuZWMJ"
   },
   "source": [
    "Report versions"
   ]
  },
  {
   "cell_type": "code",
   "execution_count": 43,
   "metadata": {
    "colab": {},
    "colab_type": "code",
    "id": "CvLUQW2OZWML",
    "outputId": "560a83ea-2f82-4364-e1ca-c2d9377179e3"
   },
   "outputs": [
    {
     "name": "stdout",
     "output_type": "stream",
     "text": [
      "numpy version: 1.18.1\n",
      "matplotlib version: 3.1.3\n",
      "pytorch version: 1.5.1\n",
      "torchvision version: 0.6.0a0+35d732a\n"
     ]
    }
   ],
   "source": [
    "print('numpy version: {}'.format(np.__version__))\n",
    "from matplotlib import __version__ as mplver\n",
    "print('matplotlib version: {}'.format(mplver))\n",
    "print(f'pytorch version: {torch.__version__}')\n",
    "print(f'torchvision version: {torchvision.__version__}')"
   ]
  },
  {
   "cell_type": "code",
   "execution_count": 44,
   "metadata": {
    "colab": {},
    "colab_type": "code",
    "id": "W41Y_1mCZWMT",
    "outputId": "d3584c33-a981-4d64-cb5f-80f9df856082"
   },
   "outputs": [
    {
     "name": "stdout",
     "output_type": "stream",
     "text": [
      "python version: 3.7.6\n"
     ]
    }
   ],
   "source": [
    "pv = sys.version_info\n",
    "print('python version: {}.{}.{}'.format(pv.major, pv.minor, pv.micro))"
   ]
  },
  {
   "cell_type": "markdown",
   "metadata": {
    "colab_type": "text",
    "id": "MQ61MXgDZWMZ"
   },
   "source": [
    "Reload packages where content for package development"
   ]
  },
  {
   "cell_type": "code",
   "execution_count": 45,
   "metadata": {
    "colab": {},
    "colab_type": "code",
    "id": "tq1ATBYRZWMb"
   },
   "outputs": [
    {
     "name": "stdout",
     "output_type": "stream",
     "text": [
      "The autoreload extension is already loaded. To reload it, use:\n",
      "  %reload_ext autoreload\n"
     ]
    }
   ],
   "source": [
    "%load_ext autoreload\n",
    "%autoreload 2"
   ]
  },
  {
   "cell_type": "markdown",
   "metadata": {
    "colab_type": "text",
    "id": "_r6ffeaQZWMg"
   },
   "source": [
    "Check GPU(s)"
   ]
  },
  {
   "cell_type": "code",
   "execution_count": 46,
   "metadata": {
    "colab": {},
    "colab_type": "code",
    "id": "Ylc8dBfAZWMh",
    "outputId": "6f7de522-bcc0-4241-d62b-8ebcbcb10dac"
   },
   "outputs": [
    {
     "name": "stdout",
     "output_type": "stream",
     "text": [
      "/bin/sh: nvidia-smi: command not found\n"
     ]
    }
   ],
   "source": [
    "!nvidia-smi"
   ]
  },
  {
   "cell_type": "markdown",
   "metadata": {
    "colab_type": "text",
    "id": "Gt7B3I2tZWMk"
   },
   "source": [
    "Set seeds for reproducibility"
   ]
  },
  {
   "cell_type": "code",
   "execution_count": 47,
   "metadata": {
    "colab": {},
    "colab_type": "code",
    "id": "WIi-ANmMZWMl"
   },
   "outputs": [],
   "source": [
    "seed = 1\n",
    "random.seed(seed)\n",
    "np.random.seed(seed)\n",
    "torch.manual_seed(seed)\n",
    "torch.cuda.manual_seed(seed)"
   ]
  },
  {
   "cell_type": "markdown",
   "metadata": {
    "colab_type": "text",
    "id": "ho9_mNfXZWMp"
   },
   "source": [
    "## Step 1: Training and validation data setup\n",
    "\n",
    "Get the location of the training (and validation) data"
   ]
  },
  {
   "cell_type": "code",
   "execution_count": 48,
   "metadata": {
    "colab": {},
    "colab_type": "code",
    "id": "Y5DRZ2OPZWMq"
   },
   "outputs": [],
   "source": [
    "train_dir = '../small/'\n",
    "t1_dir = os.path.join(train_dir, 't1')\n",
    "t2_dir = os.path.join(train_dir, 't2')"
   ]
  },
  {
   "cell_type": "code",
   "execution_count": 49,
   "metadata": {
    "colab": {},
    "colab_type": "code",
    "id": "CRVUz2SbZWMu"
   },
   "outputs": [],
   "source": [
    "t1_fns = glob(os.path.join(t1_dir, '*.nii*'))\n",
    "t2_fns = glob(os.path.join(t2_dir, '*.nii*'))\n",
    "assert len(t1_fns) == len(t2_fns) and len(t1_fns) != 0"
   ]
  },
  {
   "cell_type": "markdown",
   "metadata": {
    "colab_type": "text",
    "id": "gwCMiUxuZWMz"
   },
   "source": [
    "### Milestone 1\n",
    "\n",
    "Look at an axial view of the source T1-weighted (T1-w) and target T2-weighted (T2-w) images."
   ]
  },
  {
   "cell_type": "code",
   "execution_count": 50,
   "metadata": {
    "colab": {},
    "colab_type": "code",
    "id": "NMPuBBqBZWM0",
    "outputId": "3daf6811-f3f7-4528-9853-0ec7c2b567b5"
   },
   "outputs": [
    {
     "data": {
      "image/png": "[encoded data removed]",
      "text/plain": [
       "<Figure size 1152x648 with 2 Axes>"
      ]
     },
     "metadata": {
      "needs_background": "light"
     },
     "output_type": "display_data"
    }
   ],
   "source": [
    "t1_ex, t2_ex = nib.load(t1_fns[0]).get_fdata(), nib.load(t2_fns[0]).get_fdata()\n",
    "fig,(ax1,ax2) = plt.subplots(1,2,figsize=(16,9))\n",
    "ax1.imshow(t1_ex[:,119,:], cmap='gray'); ax1.set_title('T1',fontsize=22); ax1.axis('off'); \n",
    "ax2.imshow(t2_ex[:,119,:], cmap='gray'); ax2.set_title('T2',fontsize=22); ax2.axis('off'); "
   ]
  }
 ],
 "metadata": {
  "colab": {
   "collapsed_sections": [],
   "name": "1. Training and validation data setup.ipynb",
   "provenance": []
  },
  "kernelspec": {
   "display_name": "Python 3",
   "language": "python",
   "name": "python3"
  },
  "language_info": {
   "codemirror_mode": {
    "name": "ipython",
    "version": 3
   },
   "file_extension": ".py",
   "mimetype": "text/x-python",
   "name": "python",
   "nbconvert_exporter": "python",
   "pygments_lexer": "ipython3",
   "version": "3.7.6"
  }
 },
 "nbformat": 4,
 "nbformat_minor": 4
}
